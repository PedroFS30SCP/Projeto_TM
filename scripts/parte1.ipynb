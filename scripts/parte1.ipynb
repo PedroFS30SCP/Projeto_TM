{
 "cells": [
  {
   "cell_type": "markdown",
   "metadata": {},
   "source": [
    "# 💬 TMCD – Trabalho Final\n",
    "## Análise de Sentimento\n",
    "\n",
    "### 👥 Grupo Trab-grupo-30\n",
    "- **Rafael Alexandre Dias Andorinha**, nº 131000  \n",
    "- **Pedro Fonte Santa**, nº 105306  \n",
    "\n",
    "---\n",
    "\n",
    "📅 **Data de entrega:** 26 de abril  \n",
    "📊 **Objetivo deste script:** COMPLETAR....\n",
    "\n",
    "---"
   ]
  },
  {
   "cell_type": "markdown",
   "metadata": {},
   "source": [
    "# 🗂️ Dataset: IMDB Reviews"
   ]
  },
  {
   "cell_type": "markdown",
   "metadata": {},
   "source": [
    "## 2.2 Definição de um baseline usando ferramentas já existentes\n",
    "\n",
    "----------------\n",
    "\n",
    "Este capitulo tem como objetivo realizar uma análise de sentimentos em reviews do dataset IMDB,\n",
    "recorrendo a ferramentas de análise de sentimento já existentes. Esta etapa corresponde à Tarefa 2.2 do trabalho.\n",
    "\n",
    "Será avaliado o desempenho de duas ferramentas distintas — TextBlob e VADER — aplicadas sobre o conjunto de teste.\n",
    "As métricas de avaliação utilizadas serão a precisão (accuracy), precisão positiva (precision), cobertura (recall)\n",
    "e a medida F1.\n",
    "\n",
    "O objetivo principal é definir um baseline simples, a partir do qual será possível comparar melhorias em etapas futuras.\n",
    "\n",
    "----------------"
   ]
  },
  {
   "cell_type": "code",
   "execution_count": null,
   "metadata": {},
   "outputs": [],
   "source": [
    "# Instalação de bibliotecas caso necessário\n",
    "!pip install -q textblob vaderSentiment nltk\n",
    "\n",
    "# Imports\n",
    "import pandas as pd\n",
    "import numpy as np\n",
    "from textblob import TextBlob\n",
    "from vaderSentiment.vaderSentiment import SentimentIntensityAnalyzer\n",
    "from sklearn.metrics import accuracy_score, precision_score, recall_score, f1_score\n",
    "import nltk\n",
    "nltk.download('punkt')\n",
    "\n",
    "# Inicialização de analisadores\n",
    "vader = SentimentIntensityAnalyzer()"
   ]
  },
  {
   "cell_type": "code",
   "execution_count": 5,
   "metadata": {},
   "outputs": [
    {
     "data": {
      "text/html": [
       "<div>\n",
       "<style scoped>\n",
       "    .dataframe tbody tr th:only-of-type {\n",
       "        vertical-align: middle;\n",
       "    }\n",
       "\n",
       "    .dataframe tbody tr th {\n",
       "        vertical-align: top;\n",
       "    }\n",
       "\n",
       "    .dataframe thead th {\n",
       "        text-align: right;\n",
       "    }\n",
       "</style>\n",
       "<table border=\"1\" class=\"dataframe\">\n",
       "  <thead>\n",
       "    <tr style=\"text-align: right;\">\n",
       "      <th></th>\n",
       "      <th>text</th>\n",
       "      <th>label</th>\n",
       "    </tr>\n",
       "  </thead>\n",
       "  <tbody>\n",
       "    <tr>\n",
       "      <th>0</th>\n",
       "      <td>Logan Lerman &amp; Dean Collins III of Jack &amp; Bobb...</td>\n",
       "      <td>pos</td>\n",
       "    </tr>\n",
       "    <tr>\n",
       "      <th>1</th>\n",
       "      <td>I have seen this film on a Sunday evening and ...</td>\n",
       "      <td>pos</td>\n",
       "    </tr>\n",
       "    <tr>\n",
       "      <th>2</th>\n",
       "      <td>Two great stars and a legendary Director creat...</td>\n",
       "      <td>pos</td>\n",
       "    </tr>\n",
       "    <tr>\n",
       "      <th>3</th>\n",
       "      <td>I'm originally from Brazil... the sad thing ab...</td>\n",
       "      <td>pos</td>\n",
       "    </tr>\n",
       "    <tr>\n",
       "      <th>4</th>\n",
       "      <td>\"Witchery\" is a decent little Euro Trash horro...</td>\n",
       "      <td>pos</td>\n",
       "    </tr>\n",
       "  </tbody>\n",
       "</table>\n",
       "</div>"
      ],
      "text/plain": [
       "                                                text label\n",
       "0  Logan Lerman & Dean Collins III of Jack & Bobb...   pos\n",
       "1  I have seen this film on a Sunday evening and ...   pos\n",
       "2  Two great stars and a legendary Director creat...   pos\n",
       "3  I'm originally from Brazil... the sad thing ab...   pos\n",
       "4  \"Witchery\" is a decent little Euro Trash horro...   pos"
      ]
     },
     "execution_count": 5,
     "metadata": {},
     "output_type": "execute_result"
    }
   ],
   "source": [
    "# Carregamento do dataset de teste\n",
    "df_test = pd.read_csv(\"dataset/imdb_reviews_test.csv\") \n",
    "df_test.head()"
   ]
  },
  {
   "cell_type": "code",
   "execution_count": 6,
   "metadata": {},
   "outputs": [
    {
     "data": {
      "text/plain": [
       "label\n",
       "neg    11050\n",
       "pos    10946\n",
       "Name: count, dtype: int64"
      ]
     },
     "execution_count": 6,
     "metadata": {},
     "output_type": "execute_result"
    }
   ],
   "source": [
    "# Verificar distribuição das classes\n",
    "df_test['label'].value_counts()"
   ]
  },
  {
   "cell_type": "code",
   "execution_count": 7,
   "metadata": {},
   "outputs": [],
   "source": [
    "# Conversão de polaridade contínua para classes ('pos' ou 'neg')\n",
    "def get_sentiment_from_polarity(polarity):\n",
    "    return 'pos' if polarity >= 0 else 'neg'\n",
    "\n",
    "# Função para avaliar os resultados\n",
    "def avaliar(y_true, y_pred, nome_modelo):\n",
    "    acc = accuracy_score(y_true, y_pred)\n",
    "    prec = precision_score(y_true, y_pred, pos_label='pos')\n",
    "    rec = recall_score(y_true, y_pred, pos_label='pos')\n",
    "    f1 = f1_score(y_true, y_pred, pos_label='pos')\n",
    "    \n",
    "    print(f\"\\n--- {nome_modelo} ---\")\n",
    "    print(f\"Accuracy : {acc:.3f}\")\n",
    "    print(f\"Precisão : {prec:.3f}\")\n",
    "    print(f\"Recall   : {rec:.3f}\")\n",
    "    print(f\"F1 Score : {f1:.3f}\")\n",
    "    \n",
    "    return {'Modelo': nome_modelo, 'Accuracy': acc, 'Precisão': prec, 'Recall': rec, 'F1': f1}"
   ]
  },
  {
   "cell_type": "markdown",
   "metadata": {},
   "source": [
    "### 🧪 Classificação com TextBlob"
   ]
  },
  {
   "cell_type": "code",
   "execution_count": 8,
   "metadata": {},
   "outputs": [
    {
     "name": "stdout",
     "output_type": "stream",
     "text": [
      "\n",
      "--- TextBlob ---\n",
      "Accuracy : 0.701\n",
      "Precisão : 0.633\n",
      "Recall   : 0.950\n",
      "F1 Score : 0.760\n"
     ]
    }
   ],
   "source": [
    "# Aplicação da análise de sentimentos com TextBlob\n",
    "def aplicar_textblob(texto):\n",
    "    return TextBlob(texto).sentiment.polarity\n",
    "\n",
    "df_test['pol_tb'] = df_test['text'].apply(aplicar_textblob)\n",
    "df_test['pred_tb'] = df_test['pol_tb'].apply(get_sentiment_from_polarity)\n",
    "\n",
    "# Avaliação\n",
    "resultados_tb = avaliar(df_test['label'], df_test['pred_tb'], 'TextBlob')"
   ]
  },
  {
   "cell_type": "markdown",
   "metadata": {},
   "source": [
    "### 🧪 Classificação com VADER"
   ]
  },
  {
   "cell_type": "code",
   "execution_count": 9,
   "metadata": {},
   "outputs": [
    {
     "name": "stdout",
     "output_type": "stream",
     "text": [
      "\n",
      "--- VADER ---\n",
      "Accuracy : 0.703\n",
      "Precisão : 0.650\n",
      "Recall   : 0.872\n",
      "F1 Score : 0.745\n"
     ]
    }
   ],
   "source": [
    "# Aplicação da análise de sentimentos com VADER\n",
    "def aplicar_vader(texto):\n",
    "    return vader.polarity_scores(texto)['compound']\n",
    "\n",
    "df_test['pol_vader'] = df_test['text'].apply(aplicar_vader)\n",
    "df_test['pred_vader'] = df_test['pol_vader'].apply(get_sentiment_from_polarity)\n",
    "\n",
    "# Avaliação\n",
    "resultados_vader = avaliar(df_test['label'], df_test['pred_vader'], 'VADER')"
   ]
  },
  {
   "cell_type": "markdown",
   "metadata": {},
   "source": [
    "### 📊 Comparação Final dos Modelos"
   ]
  },
  {
   "cell_type": "code",
   "execution_count": 10,
   "metadata": {},
   "outputs": [
    {
     "data": {
      "text/html": [
       "<div>\n",
       "<style scoped>\n",
       "    .dataframe tbody tr th:only-of-type {\n",
       "        vertical-align: middle;\n",
       "    }\n",
       "\n",
       "    .dataframe tbody tr th {\n",
       "        vertical-align: top;\n",
       "    }\n",
       "\n",
       "    .dataframe thead th {\n",
       "        text-align: right;\n",
       "    }\n",
       "</style>\n",
       "<table border=\"1\" class=\"dataframe\">\n",
       "  <thead>\n",
       "    <tr style=\"text-align: right;\">\n",
       "      <th></th>\n",
       "      <th>Modelo</th>\n",
       "      <th>Accuracy</th>\n",
       "      <th>Precisão</th>\n",
       "      <th>Recall</th>\n",
       "      <th>F1</th>\n",
       "    </tr>\n",
       "  </thead>\n",
       "  <tbody>\n",
       "    <tr>\n",
       "      <th>0</th>\n",
       "      <td>TextBlob</td>\n",
       "      <td>0.701264</td>\n",
       "      <td>0.633246</td>\n",
       "      <td>0.949753</td>\n",
       "      <td>0.759858</td>\n",
       "    </tr>\n",
       "    <tr>\n",
       "      <th>1</th>\n",
       "      <td>VADER</td>\n",
       "      <td>0.702628</td>\n",
       "      <td>0.650024</td>\n",
       "      <td>0.871825</td>\n",
       "      <td>0.744761</td>\n",
       "    </tr>\n",
       "  </tbody>\n",
       "</table>\n",
       "</div>"
      ],
      "text/plain": [
       "     Modelo  Accuracy  Precisão    Recall        F1\n",
       "0  TextBlob  0.701264  0.633246  0.949753  0.759858\n",
       "1     VADER  0.702628  0.650024  0.871825  0.744761"
      ]
     },
     "execution_count": 10,
     "metadata": {},
     "output_type": "execute_result"
    }
   ],
   "source": [
    "# Compilação dos resultados\n",
    "df_resultados = pd.DataFrame([resultados_tb, resultados_vader])\n",
    "df_resultados"
   ]
  },
  {
   "cell_type": "markdown",
   "metadata": {},
   "source": [
    "### 📊 Gráfico de barras para comparar métricas (Accuracy, Precisão, Recall, F1)"
   ]
  },
  {
   "cell_type": "code",
   "execution_count": 11,
   "metadata": {},
   "outputs": [
    {
     "data": {
      "image/png": "[encoded data removed]",
      "text/plain": [
       "<Figure size 1000x600 with 1 Axes>"
      ]
     },
     "metadata": {},
     "output_type": "display_data"
    }
   ],
   "source": [
    "import matplotlib.pyplot as plt\n",
    "\n",
    "# Definir dados\n",
    "modelos = df_resultados['Modelo']\n",
    "metricas = ['Accuracy', 'Precisão', 'Recall', 'F1']\n",
    "cores = ['#3498db', '#e74c3c']  # Azul e vermelho só para dar aquele toque\n",
    "\n",
    "# Preparar os valores\n",
    "valores = df_resultados[metricas].values.T\n",
    "\n",
    "# Criar gráfico de barras\n",
    "x = np.arange(len(metricas))\n",
    "largura = 0.35\n",
    "\n",
    "fig, ax = plt.subplots(figsize=(10, 6))\n",
    "ax.bar(x - largura/2, valores[:, 0], largura, label=modelos[0], color=cores[0])\n",
    "ax.bar(x + largura/2, valores[:, 1], largura, label=modelos[1], color=cores[1])\n",
    "\n",
    "# Personalização\n",
    "ax.set_ylabel('Valor')\n",
    "ax.set_title('Comparação de Desempenho entre TextBlob e VADER')\n",
    "ax.set_xticks(x)\n",
    "ax.set_xticklabels(metricas)\n",
    "ax.legend()\n",
    "ax.set_ylim(0, 1.1)\n",
    "\n",
    "# Mostrar valores nas barras\n",
    "for i in range(len(metricas)):\n",
    "    ax.text(x[i] - largura/2, valores[i, 0] + 0.02, f\"{valores[i, 0]:.2f}\", ha='center')\n",
    "    ax.text(x[i] + largura/2, valores[i, 1] + 0.02, f\"{valores[i, 1]:.2f}\", ha='center')\n",
    "\n",
    "plt.tight_layout()\n",
    "plt.show()"
   ]
  }
 ],
 "metadata": {
  "kernelspec": {
   "display_name": "Python 3",
   "language": "python",
   "name": "python3"
  },
  "language_info": {
   "codemirror_mode": {
    "name": "ipython",
    "version": 3
   },
   "file_extension": ".py",
   "mimetype": "text/x-python",
   "name": "python",
   "nbconvert_exporter": "python",
   "pygments_lexer": "ipython3",
   "version": "3.12.0"
  }
 },
 "nbformat": 4,
 "nbformat_minor": 2
}
